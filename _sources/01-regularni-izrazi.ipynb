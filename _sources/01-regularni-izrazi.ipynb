{
 "cells": [
  {
   "cell_type": "markdown",
   "metadata": {},
   "source": [
    "# Regularni izrazi\n",
    "\n",
    "Običajno moramo podatke, ki jih želimo analizirati, najprej prečistiti. Na primer, svetovni splet je bogat vir podatkov, vendar so ti dostikrat dostopni le v formatu HTML, ki poleg koristne vsebine vsebuje še marsikaj. Recimo, da nas zanimajo podatki o [250 filmih z največ glasovi na strani IMDB](https://www.imdb.com/search/title/?sort=num_votes,desc&title_type=feature&count=250). Vidimo, da stran ponuja veliko koristnih podatkov: naslov, leto izida, dolžno, žanre, ocene, igralce, opise, ...\n",
    "\n",
    "![250 najbolj znanih filmov](datoteke/250-najbolj-znanih-filmov.png)\n",
    "\n",
    "Če pa v brskalniku shranimo izvorno kodo in HTML datoteko odpremo, pa je podatke težko najti."
   ]
  },
  {
   "cell_type": "code",
   "execution_count": 1,
   "metadata": {},
   "outputs": [
    {
     "name": "stdout",
     "output_type": "stream",
     "text": [
      "\n",
      "\n",
      "\n",
      "<!DOCTYPE html>\n",
      "<html\n",
      "    xmlns:og=\"http://ogp.me/ns#\"\n",
      "    xmlns:fb=\"http://www.facebook.com/2008/fbml\">\n",
      "    <head>\n",
      "        \n",
      "<script type='text/javascript'>var ue_t0=ue_t0||+new Date();</script>\n",
      "<script type='text/javascript'>\n",
      "window.ue_ihb = (window.ue_ihb || window.ueinit || 0) + 1;\n",
      "if (window.ue_ihb === 1) {\n",
      "\n",
      "var ue_csm = window,\n",
      "    ue_hob = +new Date();\n",
      "(function(d){var e=d.ue=d.ue||{},f=Date.now||function(){return+new Date};e.d=function(b){return f()-(b?0:d.ue_t0)};e.stub=function(b,a){if(!b[a]){var c=[];b[a]=function(){c.push([c.slice.call(arguments),e.d(),d.ue_id])};b[a].replay=function(b){for(var a;a=c.shift();)b(a[0],a[1],a[2])};b[a].isStub=1}};e.exec=function(b,a){return function(){try{return b.apply(this,arguments)}catch(c){ueLogError(c,{attribution:a||\"undefined\",logLevel:\"WARN\"})}}}})(ue_csm);\n",
      "\n",
      "\n",
      "    var ue_err_chan = 'jserr';\n",
      "(function(d,e){function h(f,b){if(!(a.ec>a.mxe)&&f){a.ter.push(f);b=b||{};var c=f.logLevel||b.logLevel;c&&c!==k&&c!==m&&c!==n&&c!==p||a.ec++;c&&c\n"
     ]
    }
   ],
   "source": [
    "with open('datoteke/250-najbolj-znanih-filmov.html') as f:\n",
    "    html = f.read()\n",
    "\n",
    "print(html[:1000])"
   ]
  },
  {
   "cell_type": "markdown",
   "metadata": {},
   "source": [
    "Pomagajmo si s pomožno funkcijo, ki poišče začetke in konce vseh neprekrivajočih se pojavitev danega niza v besedilu."
   ]
  },
  {
   "cell_type": "code",
   "execution_count": 2,
   "metadata": {},
   "outputs": [],
   "source": [
    "def vse_pojavitve(besedilo: str, iskani_niz: str):\n",
    "    konec_pojavitve = 0\n",
    "    while True:\n",
    "        try:\n",
    "            zacetek_pojavitve = besedilo.index(iskani_niz, konec_pojavitve)\n",
    "            konec_pojavitve = min(zacetek_pojavitve + len(iskani_niz), len(besedilo))\n",
    "            yield zacetek_pojavitve, konec_pojavitve\n",
    "        except ValueError:\n",
    "            break"
   ]
  },
  {
   "cell_type": "code",
   "execution_count": 3,
   "metadata": {},
   "outputs": [
    {
     "ename": "SyntaxError",
     "evalue": "unexpected EOF while parsing (<ipython-input-3-9c7f628133ca>, line 1)",
     "output_type": "error",
     "traceback": [
      "\u001b[0;36m  File \u001b[0;32m\"<ipython-input-3-9c7f628133ca>\"\u001b[0;36m, line \u001b[0;32m1\u001b[0m\n\u001b[0;31m    list(vse_pojavitve('Ena sama je, mama!', 'ma')\u001b[0m\n\u001b[0m                                                  ^\u001b[0m\n\u001b[0;31mSyntaxError\u001b[0m\u001b[0;31m:\u001b[0m unexpected EOF while parsing\n"
     ]
    }
   ],
   "source": [
    "list(vse_pojavitve('Ena sama je, mama!', 'ma')"
   ]
  },
  {
   "cell_type": "markdown",
   "metadata": {},
   "source": [
    "Če želimo, lahko vsako pojavitev prikažemo v njenem kontekstu:"
   ]
  },
  {
   "cell_type": "code",
   "execution_count": null,
   "metadata": {},
   "outputs": [],
   "source": [
    "def pokazi_vse_pojavitve(besedilo: str, iskani_niz: str, velikost_konteksta=50):\n",
    "    for zacetek, konec in vse_pojavitve(besedilo, iskani_niz):\n",
    "        zacetek_konteksta = max(zacetek - velikost_konteksta, 0)\n",
    "        konec_konteksta = min(konec + velikost_konteksta, len(besedilo))\n",
    "        print(besedilo[zacetek_konteksta:konec_konteksta])\n",
    "        print((zacetek - zacetek_konteksta) * ' ' + (konec - zacetek) * '^')"
   ]
  },
  {
   "cell_type": "code",
   "execution_count": null,
   "metadata": {},
   "outputs": [],
   "source": [
    "pokazi_vse_pojavitve('Ena sama je, mama!', 'ma')"
   ]
  },
  {
   "cell_type": "markdown",
   "metadata": {},
   "source": [
    "Recimo, da nas zanimajo podatki o Vojni zvezd:"
   ]
  },
  {
   "cell_type": "code",
   "execution_count": null,
   "metadata": {},
   "outputs": [],
   "source": [
    "pokazi_vse_pojavitve(html.replace('\\n', ''), 'Star Wars')"
   ]
  },
  {
   "cell_type": "markdown",
   "metadata": {},
   "source": [
    "V datoteki najdemo kar nekaj pojavitev, za vsako epizodo po dve: eno iz prikaza naslova in eno iz opisa slike. Vidimo, da so vsi naslovi podobne oblike: na začetku je značka `<a href=\"/title/tt0123456/?ref_=adv_li_tt\">`, pri čemer se šifra spreminja od filma do filma, na koncu je `</a>`, med njima pa je naslov filma. Če bi se zelo potrudili, bi lahko spisali program, ki iz takega niza izlušči šifro in naslov."
   ]
  },
  {
   "cell_type": "code",
   "execution_count": null,
   "metadata": {},
   "outputs": [],
   "source": [
    "def izlusci_sifro_in_naslov(niz):\n",
    "    pred_sifro = '<a href=\"/title/tt'\n",
    "    med_sifro_in_naslovom = '/?ref_=adv_li_tt\">'\n",
    "    za_naslovom = '</a>'\n",
    "    zacetek_sifre = niz.index(pred_sifro) + len(pred_sifro)\n",
    "    konec_sifre = niz.index(med_sifro_in_naslovom)\n",
    "    zacetek_naslova = konec_sifre + len(med_sifro_in_naslovom)\n",
    "    konec_naslova = niz.index(za_naslovom)\n",
    "    sifra = int(niz[zacetek_sifre:konec_sifre])\n",
    "    naslov = niz[zacetek_naslova:konec_naslova]\n",
    "    return sifra, naslov"
   ]
  },
  {
   "cell_type": "code",
   "execution_count": null,
   "metadata": {},
   "outputs": [],
   "source": [
    "izlusci_sifro_in_naslov('<a href=\"/title/tt0076759/?ref_=adv_li_tt\">Star Wars: Episode IV - A New Hope</a>')"
   ]
  },
  {
   "cell_type": "code",
   "execution_count": null,
   "metadata": {},
   "outputs": [],
   "source": [
    "izlusci_sifro_in_naslov('<a href=\"/title/tt0086190/?ref_=adv_li_tt\">Star Wars: Episode VI - Return of the Jedi</a>')"
   ]
  },
  {
   "cell_type": "markdown",
   "metadata": {},
   "source": [
    "Podobno bi lahko naredili še za leto izida, dolžino in ostalo, vendar mora obstajati boljši način. Mi si bomo pogledali dva. Prvi način so regularni izrazi - ti so univerzalno (z manjšimi dialekti) razširjeni zapis vzorcev nizov, ki jih lahko uporabljamo za delo s kakršnim koli besedilom. Regularne izraze podpirajo praktično vsi programski jeziki in naprednejši urejevalniki besedil. Zaradi vseobče uporabnosti se bomo regularnim izrazom bolj posvetili, niso pa vedno najboljše orodje pri roki, saj zaradi splošnosti ne izkoristijo vse strukture, ki je na voljo. Zato si bomo ogledali še drugi način, knjižnico [Beautiful Soup](https://www.crummy.com/software/BeautifulSoup/), ki je namenjena analizi HTML datotek.\n",
    "\n",
    "## Regularni izrazi v Pythonu\n",
    "\n",
    "Za delo z regularnimi izrazi (ali regeksi) v Pythonu uporabljamo knjižnico [`re`](https://docs.python.org/3/library/re.html), ki je vključen v vsako različico Pythona. V njej je najbolj osnovna funkcija `search`, ki sprejme vzorec in besedilo, v katerem iščemo, ter vrne prvo pojavitev, predstavljeno z objektom razreda `re.Match`."
   ]
  },
  {
   "cell_type": "code",
   "execution_count": null,
   "metadata": {},
   "outputs": [],
   "source": [
    "import re\n",
    "re.search('ma', 'Ena sama je, mama!')"
   ]
  },
  {
   "cell_type": "markdown",
   "metadata": {},
   "source": [
    "V objektu imamo dostop do začetka in konca pojavitve in njene vsebine. Uporabimo lahko tudi funkcijo `re.finditer`, ki vrne iterator po vseh pojavitvah:"
   ]
  },
  {
   "cell_type": "code",
   "execution_count": null,
   "metadata": {},
   "outputs": [],
   "source": [
    "list(re.finditer('ma', 'Ena sama je, mama!'))"
   ]
  },
  {
   "cell_type": "markdown",
   "metadata": {},
   "source": [
    "S pomočjo te funkcije lahko na veliko bolj enostaven način napišemo funkcijo `vse_pojavitve`."
   ]
  },
  {
   "cell_type": "code",
   "execution_count": null,
   "metadata": {},
   "outputs": [],
   "source": [
    "def vse_pojavitve(besedilo: str, vzorec: str):\n",
    "    for pojavitev in re.finditer(vzorec, besedilo):\n",
    "        yield pojavitev.start(), pojavitev.end()"
   ]
  },
  {
   "cell_type": "code",
   "execution_count": null,
   "metadata": {},
   "outputs": [],
   "source": [
    "pokazi_vse_pojavitve('Ena sama je, mama!', 'ma')"
   ]
  },
  {
   "cell_type": "markdown",
   "metadata": {},
   "source": [
    "Seveda pa regularni izrazi pokažejo svojo pravo moč, ko začnemo uporabljati še ostale vzorce. Vse lahko najdete v [uradni dokumentaciji](https://docs.python.org/3/library/re.html#regular-expression-syntax), mi pa si poglejmo najbolj pogoste.\n",
    "\n",
    "### Vzorci za znake\n",
    "\n",
    "Katerikoli znak predstavimo s piko:"
   ]
  },
  {
   "cell_type": "code",
   "execution_count": null,
   "metadata": {},
   "outputs": [],
   "source": [
    "pokazi_vse_pojavitve('Ena sama je, mama!', '.a')"
   ]
  },
  {
   "cell_type": "code",
   "execution_count": null,
   "metadata": {},
   "outputs": [],
   "source": [
    "pokazi_vse_pojavitve('Ena sama je, mama!', '.m')"
   ]
  },
  {
   "cell_type": "markdown",
   "metadata": {},
   "source": [
    "Če se želimo omejiti na posamezne znake ali posamezen razpon zaporednih znakov, jih naštejemo med oglatimi oklepaji:"
   ]
  },
  {
   "cell_type": "code",
   "execution_count": null,
   "metadata": {},
   "outputs": [],
   "source": [
    "pokazi_vse_pojavitve('ata, mama, teta, stric', '.[aeiou].')"
   ]
  },
  {
   "cell_type": "code",
   "execution_count": null,
   "metadata": {},
   "outputs": [],
   "source": [
    "pokazi_vse_pojavitve('ata, mama, teta, stric', '.[aeiou][a-z]')"
   ]
  },
  {
   "cell_type": "markdown",
   "metadata": {},
   "source": [
    "Če kot prvi znak v oglatih oklepajih damo `^`, dobimo komplement:"
   ]
  },
  {
   "cell_type": "code",
   "execution_count": null,
   "metadata": {},
   "outputs": [],
   "source": [
    "pokazi_vse_pojavitve('ata, mama, teta, stric', '.[^aeiou].')"
   ]
  },
  {
   "cell_type": "markdown",
   "metadata": {},
   "source": [
    "### Kvantifikatorji\n",
    "\n",
    "Z `*` označimo poljubno mnogo ponovitev danega vzorca:"
   ]
  },
  {
   "cell_type": "code",
   "execution_count": null,
   "metadata": {},
   "outputs": [],
   "source": [
    "pokazi_vse_pojavitve('Oddal sem davčno napoved', 'd*a')"
   ]
  },
  {
   "cell_type": "markdown",
   "metadata": {},
   "source": [
    "Če želimo, da se vzorec pojavi vsaj enkrat, uporabimo `+`:"
   ]
  },
  {
   "cell_type": "code",
   "execution_count": null,
   "metadata": {},
   "outputs": [],
   "source": [
    "pokazi_vse_pojavitve('Oddal sem davčno napoved', 'd+a')"
   ]
  },
  {
   "cell_type": "markdown",
   "metadata": {},
   "source": [
    "Kvantifikatorja `*` in `+` sta požrešna, kar pomeni, da poskusita zajeti kolikor znakov lahko:"
   ]
  },
  {
   "cell_type": "code",
   "execution_count": null,
   "metadata": {},
   "outputs": [],
   "source": [
    "pokazi_vse_pojavitve('Oddal sem davčno napoved', 'd.*a')"
   ]
  },
  {
   "cell_type": "code",
   "execution_count": null,
   "metadata": {},
   "outputs": [],
   "source": [
    "pokazi_vse_pojavitve('Oddal sem davčno napoved', 'd.+a')"
   ]
  },
  {
   "cell_type": "markdown",
   "metadata": {},
   "source": [
    "Če želimo najti najkrajše možne pojavitve, moramo na koncu dodati še `?`:"
   ]
  },
  {
   "cell_type": "code",
   "execution_count": null,
   "metadata": {},
   "outputs": [],
   "source": [
    "pokazi_vse_pojavitve('Oddal sem davčno napoved', 'd.*?a')"
   ]
  },
  {
   "cell_type": "code",
   "execution_count": null,
   "metadata": {},
   "outputs": [],
   "source": [
    "pokazi_vse_pojavitve('Oddal sem davčno napoved', 'd.+?a')"
   ]
  },
  {
   "cell_type": "markdown",
   "metadata": {},
   "source": [
    "Če uporabimo samo `?`, to pomeni morebitno pojavitev vzorca:"
   ]
  },
  {
   "cell_type": "code",
   "execution_count": null,
   "metadata": {},
   "outputs": [],
   "source": [
    "pokazi_vse_pojavitve('Oddal sem davčno napoved', 'da?')"
   ]
  },
  {
   "cell_type": "markdown",
   "metadata": {},
   "source": [
    "Kvantifikatorji `*`, `+` in `?` so posebni primeri kvantifikatorja `{m,n}`, ki predstavlja katerokoli število ponovitev med `m` in `n`, pri čemer lahko kakšno izmed meja tudi izpustimo. Tako je kvantifikator `*` okrajšava za `{0,}`, kvantifikator `+` okrajšava za `{1,}`, kvantifikator `?` pa okrajšava za `{0,1}`."
   ]
  },
  {
   "cell_type": "code",
   "execution_count": null,
   "metadata": {},
   "outputs": [],
   "source": [
    "pokazi_vse_pojavitve('\"Brrrr, brrrrrr, brrr, brrrrrrr,\" je drgetal od mraza.', '[Bb]r{4,5}')"
   ]
  },
  {
   "cell_type": "code",
   "execution_count": null,
   "metadata": {},
   "outputs": [],
   "source": [
    "pokazi_vse_pojavitve('\"Brrr, brrrrrr, brrr, brrrrrrr,\" je drgetal od mraza.', '[Bb]r{4,}')"
   ]
  },
  {
   "cell_type": "code",
   "execution_count": null,
   "metadata": {},
   "outputs": [],
   "source": [
    "pokazi_vse_pojavitve('\"Brrr, brrrrrr, brrr, brrrrrrr,\" je drgetal od mraza.', '[Bb]r{,5}')"
   ]
  },
  {
   "cell_type": "markdown",
   "metadata": {},
   "source": [
    "### Posebni znaki\n",
    "\n",
    "### Skupine\n",
    "\n",
    "## Metode za delo z regularnimi izrazi\n",
    "\n",
    "## Knjižnica Beautiful Soup"
   ]
  }
 ],
 "metadata": {
  "jupytext": {
   "cell_metadata_filter": "-all",
   "formats": "md:myst",
   "text_representation": {
    "extension": ".md",
    "format_name": "myst",
    "format_version": "0.8",
    "jupytext_version": "1.5.0"
   }
  },
  "kernelspec": {
   "display_name": "Python 3",
   "language": "python",
   "name": "python3"
  },
  "language_info": {
   "codemirror_mode": {
    "name": "ipython",
    "version": 3
   },
   "file_extension": ".py",
   "mimetype": "text/x-python",
   "name": "python",
   "nbconvert_exporter": "python",
   "pygments_lexer": "ipython3",
   "version": "3.7.9"
  },
  "source_map": [
   14,
   24,
   29,
   33,
   45,
   47,
   51,
   60,
   62,
   66,
   68,
   72,
   86,
   90,
   92,
   100,
   103,
   107,
   109,
   113,
   119,
   121,
   129,
   133,
   135,
   139,
   143,
   145,
   149,
   151,
   157,
   159,
   163,
   165,
   169,
   173,
   175,
   179,
   183,
   185,
   189,
   191,
   195,
   199,
   203,
   205
  ]
 },
 "nbformat": 4,
 "nbformat_minor": 4
}